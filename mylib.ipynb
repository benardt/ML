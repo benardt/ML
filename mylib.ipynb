{
  "nbformat": 4,
  "nbformat_minor": 0,
  "metadata": {
    "colab": {
      "name": "mylib.ipynb",
      "provenance": [],
      "collapsed_sections": [],
      "authorship_tag": "ABX9TyPpr/joXd7qsM0oubkUGyYo",
      "include_colab_link": true
    },
    "kernelspec": {
      "name": "python3",
      "display_name": "Python 3"
    },
    "language_info": {
      "name": "python"
    }
  },
  "cells": [
    {
      "cell_type": "markdown",
      "metadata": {
        "id": "view-in-github",
        "colab_type": "text"
      },
      "source": [
        "<a href=\"https://colab.research.google.com/github/benardt/ML/blob/main/mylib.ipynb\" target=\"_parent\"><img src=\"https://colab.research.google.com/assets/colab-badge.svg\" alt=\"Open In Colab\"/></a>"
      ]
    },
    {
      "cell_type": "code",
      "metadata": {
        "id": "w2DctM5XNW1P"
      },
      "source": [
        "import numpy\n",
        "import matplotlib as mpl\n",
        "import matplotlib.pyplot as plt\n",
        "import torchvision\n",
        "from skimage.util import compare_images\n",
        "import torch.nn as nn\n",
        "from prettytable import PrettyTable"
      ],
      "execution_count": null,
      "outputs": []
    },
    {
      "cell_type": "code",
      "metadata": {
        "id": "fx7ug6XqJW0f"
      },
      "source": [
        "def mytest(message):\n",
        "  print(\"test import...\",message)"
      ],
      "execution_count": null,
      "outputs": []
    },
    {
      "cell_type": "code",
      "metadata": {
        "id": "yJrWAM2p3Gb2"
      },
      "source": [
        "def images_show(x,y,zoom,showaxis='on'):\n",
        "    grid1 = torchvision.utils.make_grid(x)\n",
        "    img1 = grid1.numpy().transpose((1, 2, 0))\n",
        "    img1 = 1 - img1\n",
        "    grid2 = torchvision.utils.make_grid(y)\n",
        "    img2 = grid2.numpy().transpose((1, 2, 0))\n",
        "    img2 = 1 - img2\n",
        "    img2[numpy.all(img2==[0,0,0], axis=-1)] = (1,0,0)\n",
        "    blend = compare_images(img2, img1, method='blend')\n",
        "\n",
        "    plt.figure(figsize=(zoom,zoom))\n",
        "    plt.imshow(blend)\n",
        "    if showaxis == 'off':\n",
        "      plt.axis('off')\n",
        "    plt.ioff()\n",
        "    plt.show()"
      ],
      "execution_count": null,
      "outputs": []
    },
    {
      "cell_type": "code",
      "metadata": {
        "id": "2P_dIx8uD1Ng"
      },
      "source": [
        "def tensShow(T1,T2,mytitle):\n",
        "    idx = 0\n",
        "    img1 = T1[idx].cpu().detach().numpy()\n",
        "    img1 = numpy.squeeze(img1)\n",
        "    img1 = 1 - img1\n",
        "    img2 = T2[idx].cpu().detach().numpy()\n",
        "    img2 = numpy.squeeze(img2)\n",
        "\n",
        "    mycmap = mpl.cm.gist_rainbow_r\n",
        "\n",
        "    img3 = 1 * (img2 > 0.0)\n",
        "\n",
        "    fig, ax = plt.subplots(nrows=1, ncols=3,figsize=(16,8))\n",
        "    ax[1].imshow(img3, cmap='Greys', interpolation=\"bicubic\")\n",
        "    ax[0].imshow(img2, cmap=mycmap, interpolation=\"bicubic\")\n",
        "    ax[2].imshow(img1, cmap='Greys_r', interpolation=\"bicubic\")\n",
        "    ax[2].imshow(img2, cmap='jet', interpolation=\"bicubic\", alpha=0.3)\n",
        "\n",
        "    fig.tight_layout()\n",
        "    fig.suptitle(mytitle)\n",
        "    plt.show()"
      ],
      "execution_count": null,
      "outputs": []
    },
    {
      "cell_type": "code",
      "metadata": {
        "id": "ybUQQHbaOIOU"
      },
      "source": [
        "def epoch_time(start_time, end_time):\n",
        "    elapsed_time = end_time - start_time\n",
        "    elapsed_mins = int(elapsed_time / 60)\n",
        "    elapsed_secs = int(elapsed_time - (elapsed_mins * 60))\n",
        "    return elapsed_mins, elapsed_secs"
      ],
      "execution_count": null,
      "outputs": []
    },
    {
      "cell_type": "code",
      "metadata": {
        "id": "0HYiA-oxrMqK"
      },
      "source": [
        "class DiceLoss(nn.Module):\n",
        "    def __init__(self, weight=None, size_average=True):\n",
        "        super(DiceLoss, self).__init__()\n",
        "\n",
        "    def forward(self, inputs, targets, smooth=1):\n",
        "        \n",
        "        #comment out if your model contains a sigmoid or equivalent activation layer\n",
        "        #inputs = F.sigmoid(inputs)       \n",
        "        \n",
        "        #flatten label and prediction tensors\n",
        "        inputs = inputs.view(-1)\n",
        "        targets = targets.view(-1)\n",
        "        \n",
        "        intersection = (inputs * targets).sum()                            \n",
        "        dice = (2.*intersection + smooth)/(inputs.sum() + targets.sum() + smooth)  \n",
        "        \n",
        "        return 1 - dice"
      ],
      "execution_count": null,
      "outputs": []
    },
    {
      "cell_type": "code",
      "metadata": {
        "id": "-ynO8onx-Ap7"
      },
      "source": [
        "def count_parameters(model):\n",
        "    table = PrettyTable([\"Modules\", \"Parameters\"])\n",
        "    total_params = 0\n",
        "    for name, parameter in model.named_parameters():\n",
        "        if not parameter.requires_grad: continue\n",
        "        param = parameter.numel()\n",
        "        table.add_row([name, param])\n",
        "        total_params+=param\n",
        "    print(table)\n",
        "    print(f\"Total Trainable Params: {total_params}\")\n",
        "    return total_params"
      ],
      "execution_count": null,
      "outputs": []
    }
  ]
}