{
  "nbformat": 4,
  "nbformat_minor": 0,
  "metadata": {
    "accelerator": "GPU",
    "colab": {
      "name": "oring_optim.ipynb",
      "provenance": [],
      "collapsed_sections": [],
      "machine_shape": "hm",
      "authorship_tag": "ABX9TyNxicn+h0gsZrlnGfgIfzE3",
      "include_colab_link": true
    },
    "kernelspec": {
      "display_name": "Python 3",
      "name": "python3"
    },
    "language_info": {
      "name": "python"
    },
    "widgets": {
      "application/vnd.jupyter.widget-state+json": {
        "d5e84d6210f345ba800e747270365315": {
          "model_module": "@jupyter-widgets/controls",
          "model_name": "HBoxModel",
          "state": {
            "_view_name": "HBoxView",
            "_dom_classes": [],
            "_model_name": "HBoxModel",
            "_view_module": "@jupyter-widgets/controls",
            "_model_module_version": "1.5.0",
            "_view_count": null,
            "_view_module_version": "1.5.0",
            "box_style": "",
            "layout": "IPY_MODEL_3a6ea050ecbc45f59c5e0f2f37000e15",
            "_model_module": "@jupyter-widgets/controls",
            "children": [
              "IPY_MODEL_ae1257249af04765828e8e2d106e96ef",
              "IPY_MODEL_c0fe42ae531248398690061d1df1eb50"
            ]
          }
        },
        "3a6ea050ecbc45f59c5e0f2f37000e15": {
          "model_module": "@jupyter-widgets/base",
          "model_name": "LayoutModel",
          "state": {
            "_view_name": "LayoutView",
            "grid_template_rows": null,
            "right": null,
            "justify_content": null,
            "_view_module": "@jupyter-widgets/base",
            "overflow": null,
            "_model_module_version": "1.2.0",
            "_view_count": null,
            "flex_flow": null,
            "width": null,
            "min_width": null,
            "border": null,
            "align_items": null,
            "bottom": null,
            "_model_module": "@jupyter-widgets/base",
            "top": null,
            "grid_column": null,
            "overflow_y": null,
            "overflow_x": null,
            "grid_auto_flow": null,
            "grid_area": null,
            "grid_template_columns": null,
            "flex": null,
            "_model_name": "LayoutModel",
            "justify_items": null,
            "grid_row": null,
            "max_height": null,
            "align_content": null,
            "visibility": null,
            "align_self": null,
            "height": null,
            "min_height": null,
            "padding": null,
            "grid_auto_rows": null,
            "grid_gap": null,
            "max_width": null,
            "order": null,
            "_view_module_version": "1.2.0",
            "grid_template_areas": null,
            "object_position": null,
            "object_fit": null,
            "grid_auto_columns": null,
            "margin": null,
            "display": null,
            "left": null
          }
        },
        "ae1257249af04765828e8e2d106e96ef": {
          "model_module": "@jupyter-widgets/controls",
          "model_name": "FloatProgressModel",
          "state": {
            "_view_name": "ProgressView",
            "style": "IPY_MODEL_8f4c52a36a38465d9411b6aa5bc3e2d8",
            "_dom_classes": [],
            "description": " 50%",
            "_model_name": "FloatProgressModel",
            "bar_style": "danger",
            "max": 20,
            "_view_module": "@jupyter-widgets/controls",
            "_model_module_version": "1.5.0",
            "value": 10,
            "_view_count": null,
            "_view_module_version": "1.5.0",
            "orientation": "horizontal",
            "min": 0,
            "description_tooltip": null,
            "_model_module": "@jupyter-widgets/controls",
            "layout": "IPY_MODEL_79c74562b8f84245827815a88a6a07b9"
          }
        },
        "c0fe42ae531248398690061d1df1eb50": {
          "model_module": "@jupyter-widgets/controls",
          "model_name": "HTMLModel",
          "state": {
            "_view_name": "HTMLView",
            "style": "IPY_MODEL_d8bf8885d24d45f89b185cba17f14e71",
            "_dom_classes": [],
            "description": "",
            "_model_name": "HTMLModel",
            "placeholder": "​",
            "_view_module": "@jupyter-widgets/controls",
            "_model_module_version": "1.5.0",
            "value": " 10/20 [1:05:21&lt;1:05:21, 392.11s/it]",
            "_view_count": null,
            "_view_module_version": "1.5.0",
            "description_tooltip": null,
            "_model_module": "@jupyter-widgets/controls",
            "layout": "IPY_MODEL_053afe289fb24b09989c3e54b12200a9"
          }
        },
        "8f4c52a36a38465d9411b6aa5bc3e2d8": {
          "model_module": "@jupyter-widgets/controls",
          "model_name": "ProgressStyleModel",
          "state": {
            "_view_name": "StyleView",
            "_model_name": "ProgressStyleModel",
            "description_width": "initial",
            "_view_module": "@jupyter-widgets/base",
            "_model_module_version": "1.5.0",
            "_view_count": null,
            "_view_module_version": "1.2.0",
            "bar_color": null,
            "_model_module": "@jupyter-widgets/controls"
          }
        },
        "79c74562b8f84245827815a88a6a07b9": {
          "model_module": "@jupyter-widgets/base",
          "model_name": "LayoutModel",
          "state": {
            "_view_name": "LayoutView",
            "grid_template_rows": null,
            "right": null,
            "justify_content": null,
            "_view_module": "@jupyter-widgets/base",
            "overflow": null,
            "_model_module_version": "1.2.0",
            "_view_count": null,
            "flex_flow": null,
            "width": null,
            "min_width": null,
            "border": null,
            "align_items": null,
            "bottom": null,
            "_model_module": "@jupyter-widgets/base",
            "top": null,
            "grid_column": null,
            "overflow_y": null,
            "overflow_x": null,
            "grid_auto_flow": null,
            "grid_area": null,
            "grid_template_columns": null,
            "flex": null,
            "_model_name": "LayoutModel",
            "justify_items": null,
            "grid_row": null,
            "max_height": null,
            "align_content": null,
            "visibility": null,
            "align_self": null,
            "height": null,
            "min_height": null,
            "padding": null,
            "grid_auto_rows": null,
            "grid_gap": null,
            "max_width": null,
            "order": null,
            "_view_module_version": "1.2.0",
            "grid_template_areas": null,
            "object_position": null,
            "object_fit": null,
            "grid_auto_columns": null,
            "margin": null,
            "display": null,
            "left": null
          }
        },
        "d8bf8885d24d45f89b185cba17f14e71": {
          "model_module": "@jupyter-widgets/controls",
          "model_name": "DescriptionStyleModel",
          "state": {
            "_view_name": "StyleView",
            "_model_name": "DescriptionStyleModel",
            "description_width": "",
            "_view_module": "@jupyter-widgets/base",
            "_model_module_version": "1.5.0",
            "_view_count": null,
            "_view_module_version": "1.2.0",
            "_model_module": "@jupyter-widgets/controls"
          }
        },
        "053afe289fb24b09989c3e54b12200a9": {
          "model_module": "@jupyter-widgets/base",
          "model_name": "LayoutModel",
          "state": {
            "_view_name": "LayoutView",
            "grid_template_rows": null,
            "right": null,
            "justify_content": null,
            "_view_module": "@jupyter-widgets/base",
            "overflow": null,
            "_model_module_version": "1.2.0",
            "_view_count": null,
            "flex_flow": null,
            "width": null,
            "min_width": null,
            "border": null,
            "align_items": null,
            "bottom": null,
            "_model_module": "@jupyter-widgets/base",
            "top": null,
            "grid_column": null,
            "overflow_y": null,
            "overflow_x": null,
            "grid_auto_flow": null,
            "grid_area": null,
            "grid_template_columns": null,
            "flex": null,
            "_model_name": "LayoutModel",
            "justify_items": null,
            "grid_row": null,
            "max_height": null,
            "align_content": null,
            "visibility": null,
            "align_self": null,
            "height": null,
            "min_height": null,
            "padding": null,
            "grid_auto_rows": null,
            "grid_gap": null,
            "max_width": null,
            "order": null,
            "_view_module_version": "1.2.0",
            "grid_template_areas": null,
            "object_position": null,
            "object_fit": null,
            "grid_auto_columns": null,
            "margin": null,
            "display": null,
            "left": null
          }
        }
      }
    }
  },
  "cells": [
    {
      "cell_type": "markdown",
      "metadata": {
        "id": "view-in-github",
        "colab_type": "text"
      },
      "source": [
        "<a href=\"https://colab.research.google.com/github/benardt/ML/blob/main/oring_optim.ipynb\" target=\"_parent\"><img src=\"https://colab.research.google.com/assets/colab-badge.svg\" alt=\"Open In Colab\"/></a>"
      ]
    },
    {
      "cell_type": "code",
      "metadata": {
        "colab": {
          "base_uri": "https://localhost:8080/"
        },
        "id": "ggsyQv9J2Ssp",
        "outputId": "dce23455-229d-4268-e6bc-8d4ae3e66428"
      },
      "source": [
        "from google.colab import drive\n",
        "drive.mount('/content/drive', force_remount=True)\n",
        "\n",
        "!pip install optuna 1>/dev/null"
      ],
      "execution_count": 1,
      "outputs": [
        {
          "output_type": "stream",
          "text": [
            "Mounted at /content/drive\n"
          ],
          "name": "stdout"
        }
      ]
    },
    {
      "cell_type": "code",
      "metadata": {
        "colab": {
          "base_uri": "https://localhost:8080/"
        },
        "id": "S5HWR2Qzt9u8",
        "outputId": "a504435b-58fe-4fbb-e86e-59608f1273bf"
      },
      "source": [
        "import shutil\n",
        "import os\n",
        "from PIL import Image, ImageOps\n",
        "\n",
        "import matplotlib.pyplot as plt\n",
        "from mpl_toolkits.axes_grid1.axes_divider import make_axes_locatable\n",
        "import numpy as np\n",
        "import pandas as pd\n",
        "\n",
        "import optuna\n",
        "from optuna.trial import TrialState\n",
        "\n",
        "import torch\n",
        "import torch.nn as nn\n",
        "import torch.nn.functional as F\n",
        "from torch.utils.data import Dataset, DataLoader\n",
        "from torchvision import transforms, utils\n",
        "\n",
        "device = torch.device(\"cuda\" if torch.cuda.is_available() else \"cpu\")\n",
        "print(device)"
      ],
      "execution_count": 2,
      "outputs": [
        {
          "output_type": "stream",
          "text": [
            "cuda\n"
          ],
          "name": "stdout"
        }
      ]
    },
    {
      "cell_type": "code",
      "metadata": {
        "colab": {
          "base_uri": "https://localhost:8080/"
        },
        "id": "Evfpvq00Xgic",
        "outputId": "891bd913-e9ef-4943-d02d-c4061498ac40"
      },
      "source": [
        "!pip install import-ipynb\n",
        "import import_ipynb\n",
        "from importlib import reload # reload "
      ],
      "execution_count": 3,
      "outputs": [
        {
          "output_type": "stream",
          "text": [
            "Collecting import-ipynb\n",
            "  Downloading https://files.pythonhosted.org/packages/63/35/495e0021bfdcc924c7cdec4e9fbb87c88dd03b9b9b22419444dc370c8a45/import-ipynb-0.1.3.tar.gz\n",
            "Building wheels for collected packages: import-ipynb\n",
            "  Building wheel for import-ipynb (setup.py) ... \u001b[?25l\u001b[?25hdone\n",
            "  Created wheel for import-ipynb: filename=import_ipynb-0.1.3-cp37-none-any.whl size=2976 sha256=3bc36828709515e9f4861468582ff519ab1dc6b88b8c4feb8b363a69401479dc\n",
            "  Stored in directory: /root/.cache/pip/wheels/b4/7b/e9/a3a6e496115dffdb4e3085d0ae39ffe8a814eacc44bbf494b5\n",
            "Successfully built import-ipynb\n",
            "Installing collected packages: import-ipynb\n",
            "Successfully installed import-ipynb-0.1.3\n"
          ],
          "name": "stdout"
        }
      ]
    },
    {
      "cell_type": "code",
      "metadata": {
        "colab": {
          "base_uri": "https://localhost:8080/"
        },
        "id": "WtCEn-TUFbyx",
        "outputId": "e66a9c74-2412-4cf8-d937-3fdea2e1c4cd"
      },
      "source": [
        "!rm -r './mylib.ipynb'\n",
        "!cp '/content/drive/My Drive/Colab Notebooks/mylib.ipynb' .\n",
        "import mylib as ml\n",
        "reload(ml)\n",
        "ml.mytest('This is a test.')"
      ],
      "execution_count": 4,
      "outputs": [
        {
          "output_type": "stream",
          "text": [
            "rm: cannot remove './mylib.ipynb': No such file or directory\n",
            "importing Jupyter notebook from mylib.ipynb\n",
            "importing Jupyter notebook from mylib.ipynb\n",
            "test import... This is a test.\n"
          ],
          "name": "stdout"
        }
      ]
    },
    {
      "cell_type": "code",
      "metadata": {
        "id": "Bhe5ktgbxgNw"
      },
      "source": [
        "FOLDER = 'oring11'\n",
        "\n",
        "OUTPUT_SIZE = 63\n",
        "BATCH_SIZE = 32\n",
        "EPOCHS = 5\n",
        "\n",
        "shutil.unpack_archive('/content/drive/My Drive/data/'+FOLDER+'.zip', '/tmp')\n",
        "\n",
        "def get_data(isprint=False):\n",
        "\n",
        "    trans_in = transforms.Compose([transforms.Grayscale(num_output_channels=1),\n",
        "                          transforms.ToTensor()])\n",
        "    \n",
        "    interpol = transforms.InterpolationMode.NEAREST\n",
        "    trans_out = transforms.Compose([transforms.Grayscale(num_output_channels=1),\n",
        "                          transforms.Resize(OUTPUT_SIZE,interpolation=interpol),\n",
        "                          transforms.ToTensor()])   \n",
        "\n",
        "    class OringLandmarksDataset(Dataset):\n",
        "        \"\"\"Landmarks dataset.\"\"\"\n",
        "\n",
        "        def __init__(self, root_dir):\n",
        "            \"\"\"\n",
        "            Args:\n",
        "                root_dir (string): Directory with all the images.\n",
        "            \"\"\"\n",
        "\n",
        "            self.root_dir = root_dir\n",
        "            self.imgs = list(sorted(os.listdir(os.path.join(root_dir, \"PNGImages\"))))\n",
        "            self.masks = list(sorted(os.listdir(os.path.join(root_dir, \"Masks\"))))\n",
        "\n",
        "        def __len__(self):\n",
        "            return len(self.imgs)\n",
        "\n",
        "        def transform(self, x, y):\n",
        "\n",
        "            image = trans_in(x)\n",
        "            mask = trans_out(y)\n",
        "            return image, mask\n",
        "\n",
        "        def __getitem__(self, idx):\n",
        "            if torch.is_tensor(idx):\n",
        "                idx = idx.tolist()\n",
        "\n",
        "            img_name = os.path.join(self.root_dir, \"PNGImages\", self.imgs[idx])\n",
        "            im_invert = Image.open(img_name).convert('L')\n",
        "            image = ImageOps.invert(im_invert)\n",
        "\n",
        "            path = self.imgs[idx]\n",
        "\n",
        "            mask_name = os.path.join(self.root_dir, \"Masks\", self.masks[idx])\n",
        "            mask_invert = Image.open(mask_name).convert('L')\n",
        "            mask = ImageOps.invert(mask_invert)\n",
        "\n",
        "            x, y = self.transform(image, mask)\n",
        "            return x, y\n",
        "\n",
        "    trans_dataset = OringLandmarksDataset(root_dir='/tmp/'+FOLDER)\n",
        "\n",
        "    train_len = int(0.6*len(trans_dataset))\n",
        "    valid_len = len(trans_dataset)-train_len\n",
        "    TrainData, ValidData = torch.utils.data.random_split(trans_dataset,[train_len, valid_len])\n",
        "\n",
        "    mydataloader = { 'train':[],'valid':[]}\n",
        "    mydataloader['train'] = DataLoader(TrainData, batch_size=BATCH_SIZE,\n",
        "                            shuffle=True, pin_memory=True,num_workers=2)\n",
        "    mydataloader['valid'] = DataLoader(ValidData, batch_size=BATCH_SIZE,\n",
        "                            shuffle=True, pin_memory=True,num_workers=2)\n",
        "\n",
        "    if isprint:\n",
        "      for i_batch, (x,y) in enumerate(mydataloader['train']):\n",
        "        print(i_batch, x[0].size(), y[0].size())\n",
        "        x = transforms.functional.resize(x, OUTPUT_SIZE)\n",
        "        ml.images_show(x[0],y[0],5)\n",
        "        if i_batch == 2:\n",
        "          break\n",
        "\n",
        "    return mydataloader\n",
        "\n",
        "dataloader = get_data(isprint=False)\n"
      ],
      "execution_count": 5,
      "outputs": []
    },
    {
      "cell_type": "code",
      "metadata": {
        "id": "53_bpJYax4f5"
      },
      "source": [
        "def define_model(trial):\n",
        "\n",
        "  layers = []\n",
        "  out_features = [None,None]\n",
        "  kernels_size = [None,None]\n",
        "\n",
        "  i = 1 # first layer\n",
        "  out_features[i] = trial.suggest_int(\"n_channels{}\".format(i), 16, 80, 16)\n",
        "  kernels_size[i] = trial.suggest_int(\"ker_sizes{}\".format(i), 11, 19, 4)\n",
        "\n",
        "  # 1st layer\n",
        "  layers.append(nn.Conv2d(1,out_features[1],kernels_size[1],1,int((kernels_size[1]-1)/2)))\n",
        "  layers.append(nn.MaxPool2d(15,2,7))\n",
        "\n",
        "  # 2nd layer\n",
        "  layers.append(nn.Conv2d(out_features[1],128,5,1,2))\n",
        "  layers.append(nn.MaxPool2d(5,2,2))\n",
        "\n",
        "  # 3rd layer\n",
        "  layers.append(nn.Conv2d(128,128,3,1,1))\n",
        "  layers.append(nn.MaxPool2d(3,2,1))\n",
        "\n",
        "  # last layer\n",
        "  layers.append(nn.Conv2d(128,1,1,1,0))\n",
        "\n",
        "  return nn.Sequential(*layers)\n"
      ],
      "execution_count": 15,
      "outputs": []
    },
    {
      "cell_type": "code",
      "metadata": {
        "id": "xqY2FtyUUSas"
      },
      "source": [
        "def objective(trial):\n",
        "    accuracy = ml.DiceLoss()\n",
        "    model = define_model(trial).to(device)\n",
        "\n",
        "    criterion = nn.BCEWithLogitsLoss()\n",
        "    optimizer = torch.optim.Adam(model.parameters(), lr= 0.001)\n",
        "\n",
        "    for epoch in range(EPOCHS):\n",
        "        # train\n",
        "        model.train()\n",
        "        for x, y in iter(dataloader['train']):\n",
        "            x,y = x.to(device),y.to(device)\n",
        "            yhat = model(x)\n",
        "            loss = criterion(yhat, y)\n",
        "            for param in model.parameters():\n",
        "                param.grad = None\n",
        "            loss.backward()\n",
        "            optimizer.step()\n",
        "\n",
        "        # eval\n",
        "        model.eval()\n",
        "        running_corrects = 0\n",
        "        with torch.no_grad():\n",
        "            for x, y in iter(dataloader['valid']):\n",
        "                x,y = x.to(device),y.to(device)\n",
        "                yhat = model(x)\n",
        "                # accuracy\n",
        "                preds = (yhat.detach() > 0.0)*1\n",
        "                acc = 100*(1 - accuracy(preds, y.detach()))\n",
        "                running_corrects += acc * x.detach().size(0)\n",
        "\n",
        "        epoch_acc = running_corrects.item() / len(dataloader['valid'].dataset)\n",
        "\n",
        "        trial.report(epoch_acc, epoch)\n",
        "        # Handle pruning based on the intermediate value.\n",
        "        if trial.should_prune():\n",
        "            raise optuna.exceptions.TrialPruned()\n",
        "\n",
        "    return epoch_acc\n"
      ],
      "execution_count": 16,
      "outputs": []
    },
    {
      "cell_type": "code",
      "metadata": {
        "colab": {
          "base_uri": "https://localhost:8080/",
          "height": 744,
          "referenced_widgets": [
            "d5e84d6210f345ba800e747270365315",
            "3a6ea050ecbc45f59c5e0f2f37000e15",
            "ae1257249af04765828e8e2d106e96ef",
            "c0fe42ae531248398690061d1df1eb50",
            "8f4c52a36a38465d9411b6aa5bc3e2d8",
            "79c74562b8f84245827815a88a6a07b9",
            "d8bf8885d24d45f89b185cba17f14e71",
            "053afe289fb24b09989c3e54b12200a9"
          ]
        },
        "id": "O4Htt7MHvhuz",
        "outputId": "63c72f3d-48fe-4ff3-b3d2-49b57aa79431"
      },
      "source": [
        "torch.cuda.empty_cache()\n",
        "\n",
        "if __name__ == \"__main__\":\n",
        "    study = optuna.create_study(direction=\"maximize\")\n",
        "    study.optimize(objective, n_trials=20, show_progress_bar=True)\n",
        "\n",
        "    pruned_trials = study.get_trials(deepcopy=False, states=[TrialState.PRUNED])\n",
        "    complete_trials = study.get_trials(deepcopy=False, states=[TrialState.COMPLETE])\n",
        "\n",
        "    print(\"Study statistics: \")\n",
        "    print(\"  Number of finished trials: \", len(study.trials))\n",
        "    print(\"  Number of pruned trials: \", len(pruned_trials))\n",
        "    print(\"  Number of complete trials: \", len(complete_trials))\n",
        "\n",
        "    print(\"Best trial:\")\n",
        "    trial = study.best_trial\n",
        "    print(\"  Value: \", trial.value)\n",
        "    print(\"  Params: \")\n",
        "    for key, value in trial.params.items():\n",
        "        print(\"    {}: {}\".format(key, value))\n"
      ],
      "execution_count": 17,
      "outputs": [
        {
          "output_type": "stream",
          "text": [
            "\u001b[32m[I 2021-07-09 10:26:57,812]\u001b[0m A new study created in memory with name: no-name-eaf0efe5-f286-43d6-99b2-84799224d42f\u001b[0m\n",
            "/usr/local/lib/python3.7/dist-packages/optuna/progress_bar.py:47: ExperimentalWarning:\n",
            "\n",
            "Progress bar is experimental (supported from v1.2.0). The interface can change in the future.\n",
            "\n"
          ],
          "name": "stderr"
        },
        {
          "output_type": "display_data",
          "data": {
            "application/vnd.jupyter.widget-view+json": {
              "model_id": "d5e84d6210f345ba800e747270365315",
              "version_minor": 0,
              "version_major": 2
            },
            "text/plain": [
              "HBox(children=(FloatProgress(value=0.0, max=20.0), HTML(value='')))"
            ]
          },
          "metadata": {
            "tags": []
          }
        },
        {
          "output_type": "stream",
          "text": [
            "\u001b[32m[I 2021-07-09 10:36:02,546]\u001b[0m Trial 0 finished with value: 84.23537366844208 and parameters: {'n_channels1': 64, 'ker_sizes1': 11}. Best is trial 0 with value: 84.23537366844208.\u001b[0m\n",
            "\u001b[32m[I 2021-07-09 10:41:24,325]\u001b[0m Trial 1 finished with value: 85.50492052263648 and parameters: {'n_channels1': 16, 'ker_sizes1': 15}. Best is trial 1 with value: 85.50492052263648.\u001b[0m\n",
            "\u001b[32m[I 2021-07-09 10:46:11,320]\u001b[0m Trial 2 finished with value: 84.86633967210386 and parameters: {'n_channels1': 16, 'ker_sizes1': 11}. Best is trial 1 with value: 85.50492052263648.\u001b[0m\n",
            "\u001b[32m[I 2021-07-09 10:51:44,145]\u001b[0m Trial 3 finished with value: 82.67145888814913 and parameters: {'n_channels1': 32, 'ker_sizes1': 11}. Best is trial 1 with value: 85.50492052263648.\u001b[0m\n",
            "\u001b[32m[I 2021-07-09 11:01:44,929]\u001b[0m Trial 4 finished with value: 87.17128204061251 and parameters: {'n_channels1': 48, 'ker_sizes1': 19}. Best is trial 4 with value: 87.17128204061251.\u001b[0m\n",
            "\u001b[32m[I 2021-07-09 11:12:08,226]\u001b[0m Trial 5 finished with value: 86.89961821737683 and parameters: {'n_channels1': 64, 'ker_sizes1': 15}. Best is trial 4 with value: 87.17128204061251.\u001b[0m\n",
            "\u001b[32m[I 2021-07-09 11:25:57,860]\u001b[0m Trial 6 finished with value: 86.81475740679095 and parameters: {'n_channels1': 80, 'ker_sizes1': 19}. Best is trial 4 with value: 87.17128204061251.\u001b[0m\n",
            "\u001b[32m[I 2021-07-09 11:28:27,585]\u001b[0m Trial 7 pruned. \u001b[0m\n",
            "\u001b[32m[I 2021-07-09 11:30:40,708]\u001b[0m Trial 8 pruned. \u001b[0m\n",
            "\u001b[32m[I 2021-07-09 11:31:38,106]\u001b[0m Trial 9 pruned. \u001b[0m\n",
            "\n"
          ],
          "name": "stdout"
        },
        {
          "output_type": "error",
          "ename": "KeyboardInterrupt",
          "evalue": "ignored",
          "traceback": [
            "\u001b[0;31m---------------------------------------------------------------------------\u001b[0m",
            "\u001b[0;31mKeyboardInterrupt\u001b[0m                         Traceback (most recent call last)",
            "\u001b[0;32m<ipython-input-17-a4eb3d0eb3ed>\u001b[0m in \u001b[0;36m<module>\u001b[0;34m()\u001b[0m\n\u001b[1;32m      3\u001b[0m \u001b[0;32mif\u001b[0m \u001b[0m__name__\u001b[0m \u001b[0;34m==\u001b[0m \u001b[0;34m\"__main__\"\u001b[0m\u001b[0;34m:\u001b[0m\u001b[0;34m\u001b[0m\u001b[0;34m\u001b[0m\u001b[0m\n\u001b[1;32m      4\u001b[0m     \u001b[0mstudy\u001b[0m \u001b[0;34m=\u001b[0m \u001b[0moptuna\u001b[0m\u001b[0;34m.\u001b[0m\u001b[0mcreate_study\u001b[0m\u001b[0;34m(\u001b[0m\u001b[0mdirection\u001b[0m\u001b[0;34m=\u001b[0m\u001b[0;34m\"maximize\"\u001b[0m\u001b[0;34m)\u001b[0m\u001b[0;34m\u001b[0m\u001b[0;34m\u001b[0m\u001b[0m\n\u001b[0;32m----> 5\u001b[0;31m     \u001b[0mstudy\u001b[0m\u001b[0;34m.\u001b[0m\u001b[0moptimize\u001b[0m\u001b[0;34m(\u001b[0m\u001b[0mobjective\u001b[0m\u001b[0;34m,\u001b[0m \u001b[0mn_trials\u001b[0m\u001b[0;34m=\u001b[0m\u001b[0;36m20\u001b[0m\u001b[0;34m,\u001b[0m \u001b[0mshow_progress_bar\u001b[0m\u001b[0;34m=\u001b[0m\u001b[0;32mTrue\u001b[0m\u001b[0;34m)\u001b[0m\u001b[0;34m\u001b[0m\u001b[0;34m\u001b[0m\u001b[0m\n\u001b[0m\u001b[1;32m      6\u001b[0m \u001b[0;34m\u001b[0m\u001b[0m\n\u001b[1;32m      7\u001b[0m     \u001b[0mpruned_trials\u001b[0m \u001b[0;34m=\u001b[0m \u001b[0mstudy\u001b[0m\u001b[0;34m.\u001b[0m\u001b[0mget_trials\u001b[0m\u001b[0;34m(\u001b[0m\u001b[0mdeepcopy\u001b[0m\u001b[0;34m=\u001b[0m\u001b[0;32mFalse\u001b[0m\u001b[0;34m,\u001b[0m \u001b[0mstates\u001b[0m\u001b[0;34m=\u001b[0m\u001b[0;34m[\u001b[0m\u001b[0mTrialState\u001b[0m\u001b[0;34m.\u001b[0m\u001b[0mPRUNED\u001b[0m\u001b[0;34m]\u001b[0m\u001b[0;34m)\u001b[0m\u001b[0;34m\u001b[0m\u001b[0;34m\u001b[0m\u001b[0m\n",
            "\u001b[0;32m/usr/local/lib/python3.7/dist-packages/optuna/study.py\u001b[0m in \u001b[0;36moptimize\u001b[0;34m(self, func, n_trials, timeout, n_jobs, catch, callbacks, gc_after_trial, show_progress_bar)\u001b[0m\n\u001b[1;32m    408\u001b[0m             \u001b[0mcallbacks\u001b[0m\u001b[0;34m=\u001b[0m\u001b[0mcallbacks\u001b[0m\u001b[0;34m,\u001b[0m\u001b[0;34m\u001b[0m\u001b[0;34m\u001b[0m\u001b[0m\n\u001b[1;32m    409\u001b[0m             \u001b[0mgc_after_trial\u001b[0m\u001b[0;34m=\u001b[0m\u001b[0mgc_after_trial\u001b[0m\u001b[0;34m,\u001b[0m\u001b[0;34m\u001b[0m\u001b[0;34m\u001b[0m\u001b[0m\n\u001b[0;32m--> 410\u001b[0;31m             \u001b[0mshow_progress_bar\u001b[0m\u001b[0;34m=\u001b[0m\u001b[0mshow_progress_bar\u001b[0m\u001b[0;34m,\u001b[0m\u001b[0;34m\u001b[0m\u001b[0;34m\u001b[0m\u001b[0m\n\u001b[0m\u001b[1;32m    411\u001b[0m         )\n\u001b[1;32m    412\u001b[0m \u001b[0;34m\u001b[0m\u001b[0m\n",
            "\u001b[0;32m/usr/local/lib/python3.7/dist-packages/optuna/_optimize.py\u001b[0m in \u001b[0;36m_optimize\u001b[0;34m(study, func, n_trials, timeout, n_jobs, catch, callbacks, gc_after_trial, show_progress_bar)\u001b[0m\n\u001b[1;32m     73\u001b[0m                 \u001b[0mreseed_sampler_rng\u001b[0m\u001b[0;34m=\u001b[0m\u001b[0;32mFalse\u001b[0m\u001b[0;34m,\u001b[0m\u001b[0;34m\u001b[0m\u001b[0;34m\u001b[0m\u001b[0m\n\u001b[1;32m     74\u001b[0m                 \u001b[0mtime_start\u001b[0m\u001b[0;34m=\u001b[0m\u001b[0;32mNone\u001b[0m\u001b[0;34m,\u001b[0m\u001b[0;34m\u001b[0m\u001b[0;34m\u001b[0m\u001b[0m\n\u001b[0;32m---> 75\u001b[0;31m                 \u001b[0mprogress_bar\u001b[0m\u001b[0;34m=\u001b[0m\u001b[0mprogress_bar\u001b[0m\u001b[0;34m,\u001b[0m\u001b[0;34m\u001b[0m\u001b[0;34m\u001b[0m\u001b[0m\n\u001b[0m\u001b[1;32m     76\u001b[0m             )\n\u001b[1;32m     77\u001b[0m         \u001b[0;32melse\u001b[0m\u001b[0;34m:\u001b[0m\u001b[0;34m\u001b[0m\u001b[0;34m\u001b[0m\u001b[0m\n",
            "\u001b[0;32m/usr/local/lib/python3.7/dist-packages/optuna/_optimize.py\u001b[0m in \u001b[0;36m_optimize_sequential\u001b[0;34m(study, func, n_trials, timeout, catch, callbacks, gc_after_trial, reseed_sampler_rng, time_start, progress_bar)\u001b[0m\n\u001b[1;32m    160\u001b[0m \u001b[0;34m\u001b[0m\u001b[0m\n\u001b[1;32m    161\u001b[0m         \u001b[0;32mtry\u001b[0m\u001b[0;34m:\u001b[0m\u001b[0;34m\u001b[0m\u001b[0;34m\u001b[0m\u001b[0m\n\u001b[0;32m--> 162\u001b[0;31m             \u001b[0mtrial\u001b[0m \u001b[0;34m=\u001b[0m \u001b[0m_run_trial\u001b[0m\u001b[0;34m(\u001b[0m\u001b[0mstudy\u001b[0m\u001b[0;34m,\u001b[0m \u001b[0mfunc\u001b[0m\u001b[0;34m,\u001b[0m \u001b[0mcatch\u001b[0m\u001b[0;34m)\u001b[0m\u001b[0;34m\u001b[0m\u001b[0;34m\u001b[0m\u001b[0m\n\u001b[0m\u001b[1;32m    163\u001b[0m         \u001b[0;32mexcept\u001b[0m \u001b[0mException\u001b[0m\u001b[0;34m:\u001b[0m\u001b[0;34m\u001b[0m\u001b[0;34m\u001b[0m\u001b[0m\n\u001b[1;32m    164\u001b[0m             \u001b[0;32mraise\u001b[0m\u001b[0;34m\u001b[0m\u001b[0;34m\u001b[0m\u001b[0m\n",
            "\u001b[0;32m/usr/local/lib/python3.7/dist-packages/optuna/_optimize.py\u001b[0m in \u001b[0;36m_run_trial\u001b[0;34m(study, func, catch)\u001b[0m\n\u001b[1;32m    214\u001b[0m \u001b[0;34m\u001b[0m\u001b[0m\n\u001b[1;32m    215\u001b[0m     \u001b[0;32mtry\u001b[0m\u001b[0;34m:\u001b[0m\u001b[0;34m\u001b[0m\u001b[0;34m\u001b[0m\u001b[0m\n\u001b[0;32m--> 216\u001b[0;31m         \u001b[0mvalue_or_values\u001b[0m \u001b[0;34m=\u001b[0m \u001b[0mfunc\u001b[0m\u001b[0;34m(\u001b[0m\u001b[0mtrial\u001b[0m\u001b[0;34m)\u001b[0m\u001b[0;34m\u001b[0m\u001b[0;34m\u001b[0m\u001b[0m\n\u001b[0m\u001b[1;32m    217\u001b[0m     \u001b[0;32mexcept\u001b[0m \u001b[0mexceptions\u001b[0m\u001b[0;34m.\u001b[0m\u001b[0mTrialPruned\u001b[0m \u001b[0;32mas\u001b[0m \u001b[0me\u001b[0m\u001b[0;34m:\u001b[0m\u001b[0;34m\u001b[0m\u001b[0;34m\u001b[0m\u001b[0m\n\u001b[1;32m    218\u001b[0m         \u001b[0;31m# TODO(mamu): Handle multi-objective cases.\u001b[0m\u001b[0;34m\u001b[0m\u001b[0;34m\u001b[0m\u001b[0;34m\u001b[0m\u001b[0m\n",
            "\u001b[0;32m<ipython-input-16-8bb82eb8a1bb>\u001b[0m in \u001b[0;36mobjective\u001b[0;34m(trial)\u001b[0m\n\u001b[1;32m     10\u001b[0m         \u001b[0mmodel\u001b[0m\u001b[0;34m.\u001b[0m\u001b[0mtrain\u001b[0m\u001b[0;34m(\u001b[0m\u001b[0;34m)\u001b[0m\u001b[0;34m\u001b[0m\u001b[0;34m\u001b[0m\u001b[0m\n\u001b[1;32m     11\u001b[0m         \u001b[0;32mfor\u001b[0m \u001b[0mx\u001b[0m\u001b[0;34m,\u001b[0m \u001b[0my\u001b[0m \u001b[0;32min\u001b[0m \u001b[0miter\u001b[0m\u001b[0;34m(\u001b[0m\u001b[0mdataloader\u001b[0m\u001b[0;34m[\u001b[0m\u001b[0;34m'train'\u001b[0m\u001b[0;34m]\u001b[0m\u001b[0;34m)\u001b[0m\u001b[0;34m:\u001b[0m\u001b[0;34m\u001b[0m\u001b[0;34m\u001b[0m\u001b[0m\n\u001b[0;32m---> 12\u001b[0;31m             \u001b[0mx\u001b[0m\u001b[0;34m,\u001b[0m\u001b[0my\u001b[0m \u001b[0;34m=\u001b[0m \u001b[0mx\u001b[0m\u001b[0;34m.\u001b[0m\u001b[0mto\u001b[0m\u001b[0;34m(\u001b[0m\u001b[0mdevice\u001b[0m\u001b[0;34m)\u001b[0m\u001b[0;34m,\u001b[0m\u001b[0my\u001b[0m\u001b[0;34m.\u001b[0m\u001b[0mto\u001b[0m\u001b[0;34m(\u001b[0m\u001b[0mdevice\u001b[0m\u001b[0;34m)\u001b[0m\u001b[0;34m\u001b[0m\u001b[0;34m\u001b[0m\u001b[0m\n\u001b[0m\u001b[1;32m     13\u001b[0m             \u001b[0myhat\u001b[0m \u001b[0;34m=\u001b[0m \u001b[0mmodel\u001b[0m\u001b[0;34m(\u001b[0m\u001b[0mx\u001b[0m\u001b[0;34m)\u001b[0m\u001b[0;34m\u001b[0m\u001b[0;34m\u001b[0m\u001b[0m\n\u001b[1;32m     14\u001b[0m             \u001b[0mloss\u001b[0m \u001b[0;34m=\u001b[0m \u001b[0mcriterion\u001b[0m\u001b[0;34m(\u001b[0m\u001b[0myhat\u001b[0m\u001b[0;34m,\u001b[0m \u001b[0my\u001b[0m\u001b[0;34m)\u001b[0m\u001b[0;34m\u001b[0m\u001b[0;34m\u001b[0m\u001b[0m\n",
            "\u001b[0;31mKeyboardInterrupt\u001b[0m: "
          ]
        }
      ]
    },
    {
      "cell_type": "code",
      "metadata": {
        "colab": {
          "base_uri": "https://localhost:8080/",
          "height": 265
        },
        "id": "or5BJOEuSvue",
        "outputId": "13901f0f-c990-46f7-d43d-e1a3479eeee3"
      },
      "source": [
        "\n",
        "data = {\n",
        "'K': [   15,   11,   23,   11,   19,   19,   19,   19,   23,   19,   31,   19,   19,   15,   31,   31,   27,   31,   31,   27,   27,   23,   31,   23,   27,   35,   37,   31,   35,   19,   35,   35,   35,   35,   35,   35,   39,   11,   15,   11,   11,   19,   15,   19],\n",
        "'C': [  128,   96,   96,   64,  128,   32,   32,   96,   96,   96,   64,   64,   96,   96,   32,   32,   32,   32,   32,   32,   96,   96,   32,   32,   96,   32,   32,   16,   64,   80,   16,   64,   64,   80,   16,   64,   16,   64,   16,   16,   32,   48,   64,   80],\n",
        "'A': [87.19,81.10,89.36,82.48,88.42,87.86,87.86,87.52,89.57,88.69,88.88,88.54,88.73,85.89,89.48,89.51,89.62,89.48,89.51,89.62,88.55,89.03,88.90,89.08,88.53,88.72,86.87,88.40,89.82,88.26,88.81,89.46,89.60,89.68,89.87,89.31,89.72,84.23,85.50,84.86,82.67,87.17,86.89,86.81]\n",
        "}\n",
        "\n",
        "df = pd.DataFrame(data)\n",
        "\n",
        "grouped_multiple = df.groupby(['K', 'C']).agg({'A': ['mean']})\n",
        "grouped_multiple.columns = ['A_mean']\n",
        "grouped_multiple = grouped_multiple.reset_index()\n",
        "#print(grouped_multiple)\n",
        "\n",
        "#create scatterplot\n",
        "sc=plt.scatter(grouped_multiple.K, grouped_multiple.C, s=200, c=grouped_multiple.A_mean, cmap='gist_rainbow_r')\n",
        "plt.colorbar(sc)\n",
        "plt.show()"
      ],
      "execution_count": 19,
      "outputs": [
        {
          "output_type": "display_data",
          "data": {
            "image/png": "[encoded data removed]",
            "text/plain": [
              "<Figure size 432x288 with 2 Axes>"
            ]
          },
          "metadata": {
            "tags": [],
            "needs_background": "light"
          }
        }
      ]
    }
  ]
}